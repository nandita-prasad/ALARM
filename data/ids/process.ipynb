{
 "cells": [
  {
   "cell_type": "code",
   "execution_count": 91,
   "id": "86cab264",
   "metadata": {},
   "outputs": [],
   "source": [
    "import pandas as pd\n",
    "import numpy as np"
   ]
  },
  {
   "cell_type": "code",
   "execution_count": 92,
   "id": "89256f37",
   "metadata": {},
   "outputs": [
    {
     "name": "stderr",
     "output_type": "stream",
     "text": [
      "/var/folders/06/55v518js15z45m56yvr298780000gn/T/ipykernel_57908/3152150884.py:1: DtypeWarning: Columns (0,1,3,4,5,6,7,8,9,10,11,12,13,14,15,16,17,18,19,20,21,22,23,24,25,26,27,28,29,30,31,32,33,34,35,36,37,38,39,40,41,42,43,44,45,46,47,48,49,50,51,52,53,54,55,56,57,58,59,60,61,62,63,64,65,66,67,68,69,70,71,72,73,74,75,76,77,78) have mixed types. Specify dtype option on import or set low_memory=False.\n",
      "  dt = pd.read_csv(\"trafficIDS.csv\")\n"
     ]
    }
   ],
   "source": [
    "dt = pd.read_csv(\"trafficIDS.csv\")"
   ]
  },
  {
   "cell_type": "code",
   "execution_count": 93,
   "id": "165890e2",
   "metadata": {},
   "outputs": [
    {
     "data": {
      "text/plain": [
       "Index(['Dst Port', 'Protocol', 'Timestamp', 'Flow Duration', 'Tot Fwd Pkts',\n",
       "       'Tot Bwd Pkts', 'TotLen Fwd Pkts', 'TotLen Bwd Pkts', 'Fwd Pkt Len Max',\n",
       "       'Fwd Pkt Len Min', 'Fwd Pkt Len Mean', 'Fwd Pkt Len Std',\n",
       "       'Bwd Pkt Len Max', 'Bwd Pkt Len Min', 'Bwd Pkt Len Mean',\n",
       "       'Bwd Pkt Len Std', 'Flow Byts/s', 'Flow Pkts/s', 'Flow IAT Mean',\n",
       "       'Flow IAT Std', 'Flow IAT Max', 'Flow IAT Min', 'Fwd IAT Tot',\n",
       "       'Fwd IAT Mean', 'Fwd IAT Std', 'Fwd IAT Max', 'Fwd IAT Min',\n",
       "       'Bwd IAT Tot', 'Bwd IAT Mean', 'Bwd IAT Std', 'Bwd IAT Max',\n",
       "       'Bwd IAT Min', 'Fwd PSH Flags', 'Bwd PSH Flags', 'Fwd URG Flags',\n",
       "       'Bwd URG Flags', 'Fwd Header Len', 'Bwd Header Len', 'Fwd Pkts/s',\n",
       "       'Bwd Pkts/s', 'Pkt Len Min', 'Pkt Len Max', 'Pkt Len Mean',\n",
       "       'Pkt Len Std', 'Pkt Len Var', 'FIN Flag Cnt', 'SYN Flag Cnt',\n",
       "       'RST Flag Cnt', 'PSH Flag Cnt', 'ACK Flag Cnt', 'URG Flag Cnt',\n",
       "       'CWE Flag Count', 'ECE Flag Cnt', 'Down/Up Ratio', 'Pkt Size Avg',\n",
       "       'Fwd Seg Size Avg', 'Bwd Seg Size Avg', 'Fwd Byts/b Avg',\n",
       "       'Fwd Pkts/b Avg', 'Fwd Blk Rate Avg', 'Bwd Byts/b Avg',\n",
       "       'Bwd Pkts/b Avg', 'Bwd Blk Rate Avg', 'Subflow Fwd Pkts',\n",
       "       'Subflow Fwd Byts', 'Subflow Bwd Pkts', 'Subflow Bwd Byts',\n",
       "       'Init Fwd Win Byts', 'Init Bwd Win Byts', 'Fwd Act Data Pkts',\n",
       "       'Fwd Seg Size Min', 'Active Mean', 'Active Std', 'Active Max',\n",
       "       'Active Min', 'Idle Mean', 'Idle Std', 'Idle Max', 'Idle Min', 'Label'],\n",
       "      dtype='object')"
      ]
     },
     "execution_count": 93,
     "metadata": {},
     "output_type": "execute_result"
    }
   ],
   "source": [
    "dt.columns"
   ]
  },
  {
   "cell_type": "code",
   "execution_count": 94,
   "id": "dba6413f",
   "metadata": {},
   "outputs": [
    {
     "data": {
      "text/plain": [
       "613104"
      ]
     },
     "execution_count": 94,
     "metadata": {},
     "output_type": "execute_result"
    }
   ],
   "source": [
    "len(dt)"
   ]
  },
  {
   "cell_type": "code",
   "execution_count": 95,
   "id": "94dd7233",
   "metadata": {},
   "outputs": [
    {
     "data": {
      "text/plain": [
       "544200"
      ]
     },
     "execution_count": 95,
     "metadata": {},
     "output_type": "execute_result"
    }
   ],
   "source": [
    "len(dt.loc[dt['Label']=='Benign'])"
   ]
  },
  {
   "cell_type": "code",
   "execution_count": 96,
   "id": "ca28964a",
   "metadata": {},
   "outputs": [
    {
     "data": {
      "text/plain": [
       "68871"
      ]
     },
     "execution_count": 96,
     "metadata": {},
     "output_type": "execute_result"
    }
   ],
   "source": [
    "len(dt.loc[dt['Label']=='Infilteration'])"
   ]
  },
  {
   "cell_type": "code",
   "execution_count": 97,
   "id": "d7b64bb4",
   "metadata": {},
   "outputs": [],
   "source": [
    "benign_x =dt.loc[dt['Label']=='Benign']\n",
    "benign_x = benign_x.loc[0:2999]"
   ]
  },
  {
   "cell_type": "code",
   "execution_count": 98,
   "id": "76d17982",
   "metadata": {},
   "outputs": [],
   "source": [
    "malicious_x = dt.loc[dt['Label']=='Infilteration']\n",
    "malicious_x = malicious_x.iloc[0:300]"
   ]
  },
  {
   "cell_type": "code",
   "execution_count": 99,
   "id": "677db4ee",
   "metadata": {},
   "outputs": [
    {
     "name": "stdout",
     "output_type": "stream",
     "text": [
      "3300\n"
     ]
    }
   ],
   "source": [
    "proc_x = pd.concat([benign_x, malicious_x],axis=0)\n",
    "print(len(proc_x))"
   ]
  },
  {
   "cell_type": "code",
   "execution_count": 100,
   "id": "a30f0c51",
   "metadata": {},
   "outputs": [],
   "source": [
    "labels = []\n",
    "for i in proc_x[\"Label\"]:\n",
    "    if i == \"Benign\":\n",
    "        labels.append(0)\n",
    "    else:\n",
    "        labels.append(1)\n",
    "        \n",
    "proc_x['anomaly'] = labels\n",
    "proc_x = proc_x.drop(\"Label\",axis=1)"
   ]
  },
  {
   "cell_type": "code",
   "execution_count": 101,
   "id": "5f40c0ee",
   "metadata": {},
   "outputs": [],
   "source": [
    "proc_x = proc_x.drop(\"Timestamp\",axis=1)"
   ]
  },
  {
   "cell_type": "code",
   "execution_count": 102,
   "id": "f4498568",
   "metadata": {},
   "outputs": [
    {
     "name": "stdout",
     "output_type": "stream",
     "text": [
      "Dst Port 443 <class 'int'>\n",
      "Protocol 6 <class 'int'>\n",
      "Flow Duration 94658 <class 'int'>\n",
      "Tot Fwd Pkts 6 <class 'int'>\n",
      "Tot Bwd Pkts 7 <class 'int'>\n",
      "TotLen Fwd Pkts 708 <class 'int'>\n",
      "TotLen Bwd Pkts 3718 <class 'int'>\n",
      "Fwd Pkt Len Max 387 <class 'int'>\n",
      "Fwd Pkt Len Min 0 <class 'int'>\n",
      "Fwd Pkt Len Mean 118.0 <class 'float'>\n",
      "Fwd Pkt Len Std 159.2846508613 <class 'float'>\n",
      "Bwd Pkt Len Max 1460 <class 'int'>\n",
      "Bwd Pkt Len Min 0 <class 'int'>\n",
      "Bwd Pkt Len Mean 531.1428571429 <class 'float'>\n",
      "Bwd Pkt Len Std 673.1182235367 <class 'float'>\n",
      "Flow Byts/s 46757.8017705846 <class 'float'>\n",
      "Flow Pkts/s 137.3365167234 <class 'float'>\n",
      "Flow IAT Mean 7888.1666666667 <class 'float'>\n",
      "Flow IAT Std 11130.0425943262 <class 'float'>\n",
      "Flow IAT Max 24325 <class 'int'>\n",
      "Flow IAT Min 0 <class 'int'>\n",
      "Fwd IAT Tot 72880 <class 'int'>\n",
      "Fwd IAT Mean 14576.0 <class 'float'>\n",
      "Fwd IAT Std 12590.3839695221 <class 'float'>\n",
      "Fwd IAT Max 24385 <class 'int'>\n",
      "Fwd IAT Min 363 <class 'int'>\n",
      "Bwd IAT Tot 72178 <class 'int'>\n",
      "Bwd IAT Mean 12029.6666666667 <class 'float'>\n",
      "Bwd IAT Std 13189.2575176416 <class 'float'>\n",
      "Bwd IAT Max 24718 <class 'int'>\n",
      "Bwd IAT Min 0 <class 'int'>\n",
      "Fwd PSH Flags 0 <class 'int'>\n",
      "Bwd PSH Flags 0 <class 'int'>\n",
      "Fwd URG Flags 0 <class 'int'>\n",
      "Bwd URG Flags 0 <class 'int'>\n",
      "Fwd Header Len 132 <class 'int'>\n",
      "Bwd Header Len 152 <class 'int'>\n",
      "Fwd Pkts/s 63.3860846416 <class 'float'>\n",
      "Bwd Pkts/s 73.9504320818 <class 'float'>\n",
      "Pkt Len Min 0 <class 'int'>\n",
      "Pkt Len Max 1460 <class 'int'>\n",
      "Pkt Len Mean 316.1428571429 <class 'float'>\n",
      "Pkt Len Std 519.2058813734 <class 'float'>\n",
      "Pkt Len Var 269574.747252747 <class 'float'>\n",
      "FIN Flag Cnt 0 <class 'int'>\n",
      "SYN Flag Cnt 0 <class 'int'>\n",
      "RST Flag Cnt 1 <class 'int'>\n",
      "PSH Flag Cnt 1 <class 'int'>\n",
      "ACK Flag Cnt 0 <class 'int'>\n",
      "URG Flag Cnt 0 <class 'int'>\n",
      "CWE Flag Count 0 <class 'int'>\n",
      "ECE Flag Cnt 1 <class 'int'>\n",
      "Down/Up Ratio 1 <class 'int'>\n",
      "Pkt Size Avg 340.4615384615 <class 'float'>\n",
      "Fwd Seg Size Avg 118.0 <class 'float'>\n",
      "Bwd Seg Size Avg 531.1428571429 <class 'float'>\n",
      "Fwd Byts/b Avg 0 <class 'int'>\n",
      "Fwd Pkts/b Avg 0 <class 'int'>\n",
      "Fwd Blk Rate Avg 0 <class 'int'>\n",
      "Bwd Byts/b Avg 0 <class 'int'>\n",
      "Bwd Pkts/b Avg 0 <class 'int'>\n",
      "Bwd Blk Rate Avg 0 <class 'int'>\n",
      "Subflow Fwd Pkts 6 <class 'int'>\n",
      "Subflow Fwd Byts 708 <class 'int'>\n",
      "Subflow Bwd Pkts 7 <class 'int'>\n",
      "Subflow Bwd Byts 3718 <class 'int'>\n",
      "Init Fwd Win Byts 8192 <class 'int'>\n",
      "Init Bwd Win Byts 7484 <class 'int'>\n",
      "Fwd Act Data Pkts 3 <class 'int'>\n",
      "Fwd Seg Size Min 20 <class 'int'>\n",
      "Active Mean 0.0 <class 'float'>\n",
      "Active Std 0.0 <class 'float'>\n",
      "Active Max 0 <class 'int'>\n",
      "Active Min 0 <class 'int'>\n",
      "Idle Mean 0.0 <class 'float'>\n",
      "Idle Std 0.0 <class 'float'>\n",
      "Idle Max 0 <class 'int'>\n",
      "Idle Min 0 <class 'int'>\n",
      "anomaly 0 <class 'numpy.int64'>\n"
     ]
    }
   ],
   "source": [
    "for i in proc_x.columns:\n",
    "    print(i,proc_x.iloc[0][i],type(proc_x.iloc[0][i]))"
   ]
  },
  {
   "cell_type": "code",
   "execution_count": 104,
   "id": "43eb0026",
   "metadata": {},
   "outputs": [],
   "source": [
    "for i in proc_x.columns:\n",
    "    proc_x[i] = pd.to_numeric(proc_x[i])"
   ]
  },
  {
   "cell_type": "code",
   "execution_count": 105,
   "id": "ce638732",
   "metadata": {},
   "outputs": [
    {
     "name": "stdout",
     "output_type": "stream",
     "text": [
      "        Dst Port  Protocol  Flow Duration  Tot Fwd Pkts  Tot Bwd Pkts  \\\n",
      "index                                                                   \n",
      "0            443         6          94658             6             7   \n",
      "1            443         6            206             2             0   \n",
      "2            445         6         165505             3             1   \n",
      "3            443         6         102429             6             7   \n",
      "4            443         6            167             2             0   \n",
      "...          ...       ...            ...           ...           ...   \n",
      "382197       443         6        4589218            11            12   \n",
      "382198       443         6            274             3             0   \n",
      "382199       445         6         628530             3             1   \n",
      "382200       443         6       11746166             6             8   \n",
      "382201       443         6            246             3             0   \n",
      "\n",
      "        TotLen Fwd Pkts  TotLen Bwd Pkts  Fwd Pkt Len Max  Fwd Pkt Len Min  \\\n",
      "index                                                                        \n",
      "0                   708             3718              387                0   \n",
      "1                     0                0                0                0   \n",
      "2                     0                0                0                0   \n",
      "3                   708             3718              387                0   \n",
      "4                     0                0                0                0   \n",
      "...                 ...              ...              ...              ...   \n",
      "382197             2008             4434             1078                0   \n",
      "382198               31                0               31                0   \n",
      "382199                0                0                0                0   \n",
      "382200              676             3695              387                0   \n",
      "382201               31                0               31                0   \n",
      "\n",
      "        Fwd Pkt Len Mean  ...  Fwd Seg Size Min  Active Mean  Active Std  \\\n",
      "index                     ...                                              \n",
      "0             118.000000  ...                20          0.0         0.0   \n",
      "1               0.000000  ...                20          0.0         0.0   \n",
      "2               0.000000  ...                20          0.0         0.0   \n",
      "3             118.000000  ...                20          0.0         0.0   \n",
      "4               0.000000  ...                20          0.0         0.0   \n",
      "...                  ...  ...               ...          ...         ...   \n",
      "382197        182.545455  ...                20          0.0         0.0   \n",
      "382198         10.333333  ...                20          0.0         0.0   \n",
      "382199          0.000000  ...                20          0.0         0.0   \n",
      "382200        112.666667  ...                20     208843.0         0.0   \n",
      "382201         10.333333  ...                20          0.0         0.0   \n",
      "\n",
      "        Active Max  Active Min   Idle Mean  Idle Std  Idle Max  Idle Min  \\\n",
      "index                                                                      \n",
      "0                0           0         0.0       0.0         0         0   \n",
      "1                0           0         0.0       0.0         0         0   \n",
      "2                0           0         0.0       0.0         0         0   \n",
      "3                0           0         0.0       0.0         0         0   \n",
      "4                0           0         0.0       0.0         0         0   \n",
      "...            ...         ...         ...       ...       ...       ...   \n",
      "382197           0           0         0.0       0.0         0         0   \n",
      "382198           0           0         0.0       0.0         0         0   \n",
      "382199           0           0         0.0       0.0         0         0   \n",
      "382200      208843      208843  11500000.0       0.0  11500000  11500000   \n",
      "382201           0           0         0.0       0.0         0         0   \n",
      "\n",
      "        anomaly  \n",
      "index            \n",
      "0             0  \n",
      "1             0  \n",
      "2             0  \n",
      "3             0  \n",
      "4             0  \n",
      "...         ...  \n",
      "382197        1  \n",
      "382198        1  \n",
      "382199        1  \n",
      "382200        1  \n",
      "382201        1  \n",
      "\n",
      "[3230 rows x 79 columns]\n"
     ]
    }
   ],
   "source": [
    "# Replace to drop rows or columns infinite values\n",
    "proc_x = proc_x.replace([np.inf, -np.inf], np.nan).dropna(axis=0)\n",
    "print(proc_x)"
   ]
  },
  {
   "cell_type": "code",
   "execution_count": 108,
   "id": "b3adbb19",
   "metadata": {},
   "outputs": [],
   "source": [
    "proc_x = proc_x.reset_index()\n",
    "proc_x = proc_x.drop(\"index\",axis=1)\n",
    "proc_x.index.name = \"index\""
   ]
  },
  {
   "cell_type": "code",
   "execution_count": 115,
   "id": "8612bcbc",
   "metadata": {},
   "outputs": [
    {
     "data": {
      "text/plain": [
       "Index(['dst_port', 'protocol', 'flow_duration', 'tot_fwd_pkts', 'tot_bwd_pkts',\n",
       "       'totlen_fwd_pkts', 'totlen_bwd_pkts', 'fwd_pkt_len_max',\n",
       "       'fwd_pkt_len_min', 'fwd_pkt_len_mean', 'fwd_pkt_len_std',\n",
       "       'bwd_pkt_len_max', 'bwd_pkt_len_min', 'bwd_pkt_len_mean',\n",
       "       'bwd_pkt_len_std', 'flow_byts/s', 'flow_pkts/s', 'flow_iat_mean',\n",
       "       'flow_iat_std', 'flow_iat_max', 'flow_iat_min', 'fwd_iat_tot',\n",
       "       'fwd_iat_mean', 'fwd_iat_std', 'fwd_iat_max', 'fwd_iat_min',\n",
       "       'bwd_iat_tot', 'bwd_iat_mean', 'bwd_iat_std', 'bwd_iat_max',\n",
       "       'bwd_iat_min', 'fwd_psh_flags', 'bwd_psh_flags', 'fwd_urg_flags',\n",
       "       'bwd_urg_flags', 'fwd_header_len', 'bwd_header_len', 'fwd_pkts/s',\n",
       "       'bwd_pkts/s', 'pkt_len_min', 'pkt_len_max', 'pkt_len_mean',\n",
       "       'pkt_len_std', 'pkt_len_var', 'fin_flag_cnt', 'syn_flag_cnt',\n",
       "       'rst_flag_cnt', 'psh_flag_cnt', 'ack_flag_cnt', 'urg_flag_cnt',\n",
       "       'cwe_flag_count', 'ece_flag_cnt', 'down/up_ratio', 'pkt_size_avg',\n",
       "       'fwd_seg_size_avg', 'bwd_seg_size_avg', 'fwd_byts/b_avg',\n",
       "       'fwd_pkts/b_avg', 'fwd_blk_rate_avg', 'bwd_byts/b_avg',\n",
       "       'bwd_pkts/b_avg', 'bwd_blk_rate_avg', 'subflow_fwd_pkts',\n",
       "       'subflow_fwd_byts', 'subflow_bwd_pkts', 'subflow_bwd_byts',\n",
       "       'init_fwd_win_byts', 'init_bwd_win_byts', 'fwd_act_data_pkts',\n",
       "       'fwd_seg_size_min', 'active_mean', 'active_std', 'active_max',\n",
       "       'active_min', 'idle_mean', 'idle_std', 'idle_max', 'idle_min',\n",
       "       'anomaly'],\n",
       "      dtype='object')"
      ]
     },
     "execution_count": 115,
     "metadata": {},
     "output_type": "execute_result"
    }
   ],
   "source": [
    "proc_x.columns = [col.replace(\" \",\"_\").lower() for col in proc_x.columns]\n",
    "proc_x.columns"
   ]
  },
  {
   "cell_type": "code",
   "execution_count": 116,
   "id": "ad38f211",
   "metadata": {},
   "outputs": [],
   "source": [
    "proc_x.to_csv(\"input_data.txt\")"
   ]
  },
  {
   "cell_type": "code",
   "execution_count": null,
   "id": "1fe204dd",
   "metadata": {},
   "outputs": [],
   "source": []
  }
 ],
 "metadata": {
  "kernelspec": {
   "display_name": "Python 3 (ipykernel)",
   "language": "python",
   "name": "python3"
  },
  "language_info": {
   "codemirror_mode": {
    "name": "ipython",
    "version": 3
   },
   "file_extension": ".py",
   "mimetype": "text/x-python",
   "name": "python",
   "nbconvert_exporter": "python",
   "pygments_lexer": "ipython3",
   "version": "3.9.15"
  }
 },
 "nbformat": 4,
 "nbformat_minor": 5
}
